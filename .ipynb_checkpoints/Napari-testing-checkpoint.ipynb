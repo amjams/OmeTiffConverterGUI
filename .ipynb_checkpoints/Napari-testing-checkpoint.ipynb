{
 "cells": [
  {
   "cell_type": "code",
   "execution_count": 7,
   "id": "neural-password",
   "metadata": {},
   "outputs": [],
   "source": [
    "import numpy as np\n",
    "from PIL import Image\n",
    "from pathlib import Path\n",
    "import tiffile as tf\n",
    "import time\n",
    "import cv2\n",
    "import napari\n",
    "import os\n",
    "import PySimpleGUI as sg\n",
    "from datetime import datetime\n",
    "from apeer_ometiff_library import io, processing, omexmlClass\n",
    "import imgfileutils as imf\n",
    "import zarr\n",
    "\n",
    "\n"
   ]
  },
  {
   "cell_type": "code",
   "execution_count": 13,
   "id": "tender-punch",
   "metadata": {},
   "outputs": [
    {
     "name": "stdout",
     "output_type": "stream",
     "text": [
      "Name        : /\n",
      "Type        : zarr.hierarchy.Group\n",
      "Read-only   : True\n",
      "Store type  : tifffile.tifffile.ZarrTiffStore\n",
      "No. members : 6\n",
      "No. arrays  : 6\n",
      "No. groups  : 0\n",
      "Arrays      : 0, 1, 2, 3, 4, 5\n",
      "\n",
      "Name               : /0\n",
      "Type               : zarr.core.Array\n",
      "Data type          : uint16\n",
      "Shape              : (36042, 33260)\n",
      "Chunk shape        : (256, 256)\n",
      "Order              : C\n",
      "Read-only          : True\n",
      "Compressor         : None\n",
      "Store type         : tifffile.tifffile.ZarrTiffStore\n",
      "No. bytes          : 2397513840 (2.2G)\n",
      "Chunks initialized : 0/18330\n",
      "\n"
     ]
    }
   ],
   "source": [
    "filename = '/Users/AJ/Documents/Work/PostDoc_UMCG/work/OmeTiff_conversion/Data/GUI/conversion/output.ome.tiff'\n",
    "#print(filename)\n",
    "#napari.view_image(filename)  #, contrast_limits=[0,2000])\n",
    "\n",
    "store = tf.imread(filename, aszarr=True)\n",
    "zgroup = zarr.open(store, mode='r')\n",
    "print(zgroup.info)\n",
    "print(zgroup[0].info)\n",
    "data = [\n",
    "    zgroup[int(dataset['path'])]\n",
    "    for dataset in zgroup.attrs['multiscales'][0]['datasets']\n",
    "]\n",
    "\n",
    "viewer = napari.view_image(data, rgb=False)  # contrast_limits=[0, 255]\n",
    "napari.run()\n",
    "store.close()"
   ]
  },
  {
   "cell_type": "code",
   "execution_count": null,
   "id": "severe-dressing",
   "metadata": {},
   "outputs": [],
   "source": [
    "with tf.TiffFile(filename) as tif:\n",
    "    tif_tags = {}\n",
    "    for tag in tif.pages[0].tags.values():\n",
    "        name, value = tag.name, tag.value\n",
    "        tif_tags[name] = value\n",
    "    image = tif.pages[0].asarray()"
   ]
  },
  {
   "cell_type": "code",
   "execution_count": null,
   "id": "indonesian-reception",
   "metadata": {},
   "outputs": [],
   "source": []
  }
 ],
 "metadata": {
  "kernelspec": {
   "display_name": "Python 3",
   "language": "python",
   "name": "python3"
  },
  "language_info": {
   "codemirror_mode": {
    "name": "ipython",
    "version": 3
   },
   "file_extension": ".py",
   "mimetype": "text/x-python",
   "name": "python",
   "nbconvert_exporter": "python",
   "pygments_lexer": "ipython3",
   "version": "3.9.1"
  },
  "varInspector": {
   "cols": {
    "lenName": 16,
    "lenType": 16,
    "lenVar": 40
   },
   "kernels_config": {
    "python": {
     "delete_cmd_postfix": "",
     "delete_cmd_prefix": "del ",
     "library": "var_list.py",
     "varRefreshCmd": "print(var_dic_list())"
    },
    "r": {
     "delete_cmd_postfix": ") ",
     "delete_cmd_prefix": "rm(",
     "library": "var_list.r",
     "varRefreshCmd": "cat(var_dic_list()) "
    }
   },
   "types_to_exclude": [
    "module",
    "function",
    "builtin_function_or_method",
    "instance",
    "_Feature"
   ],
   "window_display": false
  }
 },
 "nbformat": 4,
 "nbformat_minor": 5
}
